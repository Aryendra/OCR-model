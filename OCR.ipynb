{
 "cells": [
  {
   "cell_type": "code",
   "execution_count": 2,
   "id": "wired-challenge",
   "metadata": {},
   "outputs": [
    {
     "name": "stderr",
     "output_type": "stream",
     "text": [
      "WARNING: You are using pip version 21.0.1; however, version 21.1.2 is available.\n",
      "You should consider upgrading via the 'c:\\users\\aryen\\anaconda3\\python.exe -m pip install --upgrade pip' command.\n"
     ]
    },
    {
     "name": "stdout",
     "output_type": "stream",
     "text": [
      "Requirement already satisfied: pytesseract in c:\\users\\aryen\\anaconda3\\lib\\site-packages (0.3.7)\n",
      "Requirement already satisfied: Pillow in c:\\users\\aryen\\anaconda3\\lib\\site-packages (from pytesseract) (8.1.2)\n"
     ]
    },
    {
     "data": {
      "text/plain": [
       "[' ',\n",
       " '',\n",
       " 'a oO',\n",
       " '',\n",
       " ' ',\n",
       " '',\n",
       " ' ',\n",
       " '',\n",
       " ' ',\n",
       " '',\n",
       " 'PRM rile Edit View Insert Tools Desktop Window Help',\n",
       " 'OSGMs/F|AAT9HK-|B\\\\/08\\\\/ea',\n",
       " 'o> ay',\n",
       " 'Current Fold',\n",
       " 'Original image Gradient image',\n",
       " '',\n",
       " ' ',\n",
       " '',\n",
       " 'exp5im (Serif',\n",
       " '',\n",
       " 'Workspace |',\n",
       " '',\n",
       " ' ',\n",
       " '',\n",
       " '  ',\n",
       " '',\n",
       " 'Prewitt image',\n",
       " '',\n",
       " 'Sobel image',\n",
       " '',\n",
       " ' ',\n",
       " '',\n",
       " ' ',\n",
       " '',\n",
       " ' ',\n",
       " '',\n",
       " 'A Figure2',\n",
       " 'File Edit View Insert Tools Desktop',\n",
       " 'HSM S\\\\F|AAV9eHe- |B',\n",
       " '',\n",
       " ' ',\n",
       " '',\n",
       " ' ',\n",
       " '',\n",
       " 'Original image',\n",
       " '',\n",
       " 'Window Help',\n",
       " '',\n",
       " 'O8\\\\/eo',\n",
       " '',\n",
       " 'Salt & Pepper noise image',\n",
       " '',\n",
       " '   ',\n",
       " '',\n",
       " ' ',\n",
       " '',\n",
       " ' ',\n",
       " '',\n",
       " 'Restored image using Median filter',\n",
       " '',\n",
       " ' ',\n",
       " '',\n",
       " 'Restored image using Wiener filter',\n",
       " '',\n",
       " ' ',\n",
       " '',\n",
       " '<',\n",
       " 'x opi',\n",
       " '',\n",
       " ' ',\n",
       " '',\n",
       " '®',\n",
       " '',\n",
       " ' ',\n",
       " '',\n",
       " ' ',\n",
       " '',\n",
       " '300x800 vints',\n",
       " '300x800 uint',\n",
       " '300X800 uint',\n",
       " '800 uint',\n",
       " '',\n",
       " '   ',\n",
       " '',\n",
       " '  ',\n",
       " '',\n",
       " 'script',\n",
       " '',\n",
       " ' ',\n",
       " '\\x0c']"
      ]
     },
     "execution_count": 2,
     "metadata": {},
     "output_type": "execute_result"
    }
   ],
   "source": [
    "import cv2\n",
    "\n",
    "!pip install pytesseract\n",
    "import pytesseract\n",
    "pytesseract.pytesseract.tesseract_cmd = r'C:\\Program Files\\Tesseract-OCR\\tesseract.exe'\n",
    "\n",
    "im=cv2.imread(r'C:\\Users\\aryen\\Downloads\\5 and 6.jpeg')\n",
    "config=('-l eng --oem 1 --psm 3')\n",
    "text=pytesseract.image_to_string(im,config=config)\n",
    "text=text.split('\\n')\n",
    "text"
   ]
  },
  {
   "cell_type": "code",
   "execution_count": null,
   "id": "interested-blond",
   "metadata": {},
   "outputs": [],
   "source": [
    "def gray(img):\n",
    "    img=cv2.cvtColor(img,cv2.COLOR_BGR2GRAY)\n",
    "    cv2.imwrite(r\"C:\\Users\\aryen\\Downloads\\img_gray.png\",img)\n",
    "    return img\n",
    "def blur(img):\n",
    "    img_blur=cv2.GaussianBlur(img,(5,5),0)\n",
    "    cv2.imwrite(r\"C:\\Users\\aryen\\Downloads\\img_blur.png\",img)\n",
    "    return img_blur\n",
    "def threshold(img):\n",
    "    img=cv2.threshold(img,100,255,cv2.THRESH_OTSU |cv2.THRESH_BINARY)[1]\n",
    "    cv2.imwrite(r\"C:\\Users\\aryen\\Downloads\\img_threshold.png\",img)\n",
    "    return img"
   ]
  },
  {
   "cell_type": "code",
   "execution_count": null,
   "id": "awful-elements",
   "metadata": {},
   "outputs": [],
   "source": [
    "im_gray=gray(im)\n",
    "im_blur=blur(im_gray)\n",
    "im_thresh=threshold(im_blur)\n",
    "contours,_=cv2.findContours(im_thresh,cv2.RETR_EXTERNAL,cv2.CHAIN_APPROX_NONE)\n"
   ]
  },
  {
   "cell_type": "code",
   "execution_count": null,
   "id": "documentary-guinea",
   "metadata": {},
   "outputs": [],
   "source": [
    "def contours_text(orig,img, contours):\n",
    "    for cnt in contours:\n",
    "        x,y,w,h=cv2.boundingRect(cnt)\n",
    "        rect=cv2.rectangle(orig,(x,y),(x+w,y+h),(0,255,255),2)\n",
    "        cv2.imshow('cnt',rect)\n",
    "        cv2.waitKey()\n",
    "        cropped=orig[y:y+h,x:x+w]\n",
    "        config=('-l eng --oem 1 --psm 3')\n",
    "        text=pytesseract.image_to_string(cropped,config=config)\n",
    "        print(text)"
   ]
  },
  {
   "cell_type": "code",
   "execution_count": null,
   "id": "thermal-exchange",
   "metadata": {},
   "outputs": [],
   "source": [
    "contours_text(im,im_blur,contours)"
   ]
  },
  {
   "cell_type": "markdown",
   "id": "complex-world",
   "metadata": {},
   "source": []
  }
 ],
 "metadata": {
  "kernelspec": {
   "display_name": "Python 3",
   "language": "python",
   "name": "python3"
  },
  "language_info": {
   "codemirror_mode": {
    "name": "ipython",
    "version": 3
   },
   "file_extension": ".py",
   "mimetype": "text/x-python",
   "name": "python",
   "nbconvert_exporter": "python",
   "pygments_lexer": "ipython3",
   "version": "3.7.4"
  }
 },
 "nbformat": 4,
 "nbformat_minor": 5
}
